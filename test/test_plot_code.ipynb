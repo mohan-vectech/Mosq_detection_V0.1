{
 "cells": [
  {
   "cell_type": "code",
   "execution_count": 1,
   "metadata": {},
   "outputs": [
    {
     "ename": "ModuleNotFoundError",
     "evalue": "No module named 'serial'",
     "output_type": "error",
     "traceback": [
      "\u001b[1;31m---------------------------------------------------------------------------\u001b[0m",
      "\u001b[1;31mModuleNotFoundError\u001b[0m                       Traceback (most recent call last)",
      "Input \u001b[1;32mIn [1]\u001b[0m, in \u001b[0;36m<cell line: 1>\u001b[1;34m()\u001b[0m\n\u001b[1;32m----> 1\u001b[0m \u001b[38;5;28;01mimport\u001b[39;00m \u001b[38;5;21;01mserial\u001b[39;00m\n\u001b[0;32m      2\u001b[0m \u001b[38;5;28;01mimport\u001b[39;00m \u001b[38;5;21;01mmatplotlib\u001b[39;00m\u001b[38;5;21;01m.\u001b[39;00m\u001b[38;5;21;01mpyplot\u001b[39;00m \u001b[38;5;28;01mas\u001b[39;00m \u001b[38;5;21;01mplt\u001b[39;00m\n\u001b[0;32m      3\u001b[0m \u001b[38;5;28;01mimport\u001b[39;00m \u001b[38;5;21;01mtime\u001b[39;00m\n",
      "\u001b[1;31mModuleNotFoundError\u001b[0m: No module named 'serial'"
     ]
    }
   ],
   "source": [
    "import serial\n",
    "import matplotlib.pyplot as plt\n",
    "import time\n",
    "\n",
    "ser = serial.Serial('COM3', 9600)  # serial port\n",
    "\n",
    "#  lists to store the data\n",
    "lux_values = []\n",
    "threshold_values = []\n",
    "\n",
    "#  reading from  serial port\n",
    "start_time = time.time()\n",
    "while time.time() - start_time < 180:  # read for 3 mins\n",
    "    if ser.in_waiting > 0:\n",
    "        line = ser.readline().decode('utf-8').strip()\n",
    "        if line:\n",
    "            try:\n",
    "                currentRead, dynThreshold = map(float, line.split(','))\n",
    "                lux_values.append(currentRead)\n",
    "                threshold_values.append(dynThreshold)\n",
    "            except ValueError:\n",
    "                continue\n",
    "\n",
    "# Close the serial port\n",
    "ser.close()\n",
    "\n",
    "# Plot the data\n",
    "plt.plot(lux_values, label='Lux')\n",
    "plt.plot(threshold_values, label='Threshold')\n",
    "plt.xlabel('Time (s)')\n",
    "plt.ylabel('Lux')\n",
    "plt.legend()\n",
    "plt.show()\n"
   ]
  }
 ],
 "metadata": {
  "kernelspec": {
   "display_name": "urmom",
   "language": "python",
   "name": "python3"
  },
  "language_info": {
   "codemirror_mode": {
    "name": "ipython",
    "version": 3
   },
   "file_extension": ".py",
   "mimetype": "text/x-python",
   "name": "python",
   "nbconvert_exporter": "python",
   "pygments_lexer": "ipython3",
   "version": "3.8.13"
  }
 },
 "nbformat": 4,
 "nbformat_minor": 2
}
